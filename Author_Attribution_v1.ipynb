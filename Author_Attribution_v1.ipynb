{
 "cells": [
  {
   "cell_type": "markdown",
   "metadata": {},
   "source": [
    "## STEP 1 -  Get data and clean it"
   ]
  },
  {
   "cell_type": "code",
   "execution_count": 145,
   "metadata": {},
   "outputs": [
    {
     "name": "stderr",
     "output_type": "stream",
     "text": [
      "/Users/saransh/anaconda3/lib/python3.6/site-packages/ipykernel_launcher.py:3: FutureWarning: read_table is deprecated, use read_csv instead, passing sep='\\t'.\n",
      "  This is separate from the ipykernel package so we can avoid doing imports until\n"
     ]
    }
   ],
   "source": [
    "import pandas as pd\n",
    "\n",
    "df_orig = pd.read_table('train_tweets.txt',names=('id','rtweet'))\n"
   ]
  },
  {
   "cell_type": "code",
   "execution_count": 146,
   "metadata": {},
   "outputs": [],
   "source": [
    "def cleanData(text):\n",
    "    removeList = [\"@handle\",\"@handle:\"]\n",
    "    text_r = \" \".join([char for char in text.split(' ') if char not in removeList]) \n",
    "    return text_r\n",
    "\n",
    "df_orig['tweet'] = df_orig['rtweet'].apply(lambda x: cleanData(x))"
   ]
  },
  {
   "cell_type": "code",
   "execution_count": 147,
   "metadata": {},
   "outputs": [
    {
     "data": {
      "text/html": [
       "<div>\n",
       "<style scoped>\n",
       "    .dataframe tbody tr th:only-of-type {\n",
       "        vertical-align: middle;\n",
       "    }\n",
       "\n",
       "    .dataframe tbody tr th {\n",
       "        vertical-align: top;\n",
       "    }\n",
       "\n",
       "    .dataframe thead th {\n",
       "        text-align: right;\n",
       "    }\n",
       "</style>\n",
       "<table border=\"1\" class=\"dataframe\">\n",
       "  <thead>\n",
       "    <tr style=\"text-align: right;\">\n",
       "      <th></th>\n",
       "      <th>id</th>\n",
       "      <th>rtweet</th>\n",
       "      <th>tweet</th>\n",
       "    </tr>\n",
       "  </thead>\n",
       "  <tbody>\n",
       "    <tr>\n",
       "      <th>0</th>\n",
       "      <td>8746</td>\n",
       "      <td>@handle Let's try and catch up live next week!</td>\n",
       "      <td>Let's try and catch up live next week!</td>\n",
       "    </tr>\n",
       "    <tr>\n",
       "      <th>1</th>\n",
       "      <td>8746</td>\n",
       "      <td>Going to watch Grey's on the big screen - Thur...</td>\n",
       "      <td>Going to watch Grey's on the big screen - Thur...</td>\n",
       "    </tr>\n",
       "    <tr>\n",
       "      <th>2</th>\n",
       "      <td>8746</td>\n",
       "      <td>@handle My pleasure Patrick....hope you are well!</td>\n",
       "      <td>My pleasure Patrick....hope you are well!</td>\n",
       "    </tr>\n",
       "    <tr>\n",
       "      <th>3</th>\n",
       "      <td>8746</td>\n",
       "      <td>@handle Hi there! Been traveling a lot and lot...</td>\n",
       "      <td>Hi there! Been traveling a lot and lots more t...</td>\n",
       "    </tr>\n",
       "    <tr>\n",
       "      <th>4</th>\n",
       "      <td>8746</td>\n",
       "      <td>RT @handle Looking to Drink Clean &amp; Go Green? ...</td>\n",
       "      <td>RT Looking to Drink Clean &amp; Go Green? Purchase...</td>\n",
       "    </tr>\n",
       "  </tbody>\n",
       "</table>\n",
       "</div>"
      ],
      "text/plain": [
       "     id                                             rtweet  \\\n",
       "0  8746     @handle Let's try and catch up live next week!   \n",
       "1  8746  Going to watch Grey's on the big screen - Thur...   \n",
       "2  8746  @handle My pleasure Patrick....hope you are well!   \n",
       "3  8746  @handle Hi there! Been traveling a lot and lot...   \n",
       "4  8746  RT @handle Looking to Drink Clean & Go Green? ...   \n",
       "\n",
       "                                               tweet  \n",
       "0             Let's try and catch up live next week!  \n",
       "1  Going to watch Grey's on the big screen - Thur...  \n",
       "2          My pleasure Patrick....hope you are well!  \n",
       "3  Hi there! Been traveling a lot and lots more t...  \n",
       "4  RT Looking to Drink Clean & Go Green? Purchase...  "
      ]
     },
     "execution_count": 147,
     "metadata": {},
     "output_type": "execute_result"
    }
   ],
   "source": [
    "#TODO : remove links\n",
    "df_orig.head()"
   ]
  },
  {
   "cell_type": "code",
   "execution_count": 148,
   "metadata": {},
   "outputs": [
    {
     "data": {
      "text/html": [
       "<div>\n",
       "<style scoped>\n",
       "    .dataframe tbody tr th:only-of-type {\n",
       "        vertical-align: middle;\n",
       "    }\n",
       "\n",
       "    .dataframe tbody tr th {\n",
       "        vertical-align: top;\n",
       "    }\n",
       "\n",
       "    .dataframe thead th {\n",
       "        text-align: right;\n",
       "    }\n",
       "</style>\n",
       "<table border=\"1\" class=\"dataframe\">\n",
       "  <thead>\n",
       "    <tr style=\"text-align: right;\">\n",
       "      <th></th>\n",
       "      <th>id</th>\n",
       "      <th>rtweet</th>\n",
       "      <th>tweet</th>\n",
       "      <th>spCount</th>\n",
       "      <th>hastags</th>\n",
       "      <th>word_count</th>\n",
       "      <th>char_count</th>\n",
       "      <th>isCapitalize</th>\n",
       "    </tr>\n",
       "  </thead>\n",
       "  <tbody>\n",
       "    <tr>\n",
       "      <th>328190</th>\n",
       "      <td>4357</td>\n",
       "      <td>Steelbox Demonstrates Open Video Framework wit...</td>\n",
       "      <td>steelbox demonstrates open video framework wit...</td>\n",
       "      <td>0</td>\n",
       "      <td>0</td>\n",
       "      <td>13</td>\n",
       "      <td>102</td>\n",
       "      <td>10</td>\n",
       "    </tr>\n",
       "    <tr>\n",
       "      <th>328191</th>\n",
       "      <td>4357</td>\n",
       "      <td>Small Businesses Rely on Sage to Help Them Rid...</td>\n",
       "      <td>small businesses rely on sage to help them rid...</td>\n",
       "      <td>0</td>\n",
       "      <td>0</td>\n",
       "      <td>13</td>\n",
       "      <td>66</td>\n",
       "      <td>9</td>\n",
       "    </tr>\n",
       "    <tr>\n",
       "      <th>328192</th>\n",
       "      <td>4357</td>\n",
       "      <td>TimeSight Systems™ Announces Next-Generation P...</td>\n",
       "      <td>timesight systems™ announces next-generation p...</td>\n",
       "      <td>0</td>\n",
       "      <td>0</td>\n",
       "      <td>12</td>\n",
       "      <td>98</td>\n",
       "      <td>9</td>\n",
       "    </tr>\n",
       "    <tr>\n",
       "      <th>328193</th>\n",
       "      <td>4357</td>\n",
       "      <td>Diebold Makes Its Leading Monitoring Solutions...</td>\n",
       "      <td>diebold makes its leading monitoring solutions...</td>\n",
       "      <td>0</td>\n",
       "      <td>0</td>\n",
       "      <td>10</td>\n",
       "      <td>68</td>\n",
       "      <td>8</td>\n",
       "    </tr>\n",
       "    <tr>\n",
       "      <th>328194</th>\n",
       "      <td>4357</td>\n",
       "      <td>GVI Security Solutions to Introduce AutoIP™ VM...</td>\n",
       "      <td>gvi security solutions to introduce autoip™ vm...</td>\n",
       "      <td>0</td>\n",
       "      <td>0</td>\n",
       "      <td>15</td>\n",
       "      <td>98</td>\n",
       "      <td>11</td>\n",
       "    </tr>\n",
       "  </tbody>\n",
       "</table>\n",
       "</div>"
      ],
      "text/plain": [
       "          id                                             rtweet  \\\n",
       "328190  4357  Steelbox Demonstrates Open Video Framework wit...   \n",
       "328191  4357  Small Businesses Rely on Sage to Help Them Rid...   \n",
       "328192  4357  TimeSight Systems™ Announces Next-Generation P...   \n",
       "328193  4357  Diebold Makes Its Leading Monitoring Solutions...   \n",
       "328194  4357  GVI Security Solutions to Introduce AutoIP™ VM...   \n",
       "\n",
       "                                                    tweet  spCount  hastags  \\\n",
       "328190  steelbox demonstrates open video framework wit...        0        0   \n",
       "328191  small businesses rely on sage to help them rid...        0        0   \n",
       "328192  timesight systems™ announces next-generation p...        0        0   \n",
       "328193  diebold makes its leading monitoring solutions...        0        0   \n",
       "328194  gvi security solutions to introduce autoip™ vm...        0        0   \n",
       "\n",
       "        word_count  char_count  isCapitalize  \n",
       "328190          13         102            10  \n",
       "328191          13          66             9  \n",
       "328192          12          98             9  \n",
       "328193          10          68             8  \n",
       "328194          15          98            11  "
      ]
     },
     "execution_count": 148,
     "metadata": {},
     "output_type": "execute_result"
    }
   ],
   "source": [
    "import re\n",
    "\n",
    "def removeHyperLink(text):\n",
    "    text = re.sub(r'http?:\\/\\/.*[\\r\\n]*', '', text, flags=re.MULTILINE)\n",
    "    return(text)\n",
    "\n",
    "def countSpChar(text):\n",
    "    new = re.sub('[@_!#$%^&*()<>?/\\|}{~:\\']' ,'', text)\n",
    "    count = len(text) - len(new)\n",
    "    return count\n",
    "    \n",
    "def removeSpChar(text):\n",
    "    new = re.sub('[@_!#$%^&*()<>?/\\|}{~:\\']' ,'', text)\n",
    "    return new\n",
    "\n",
    "df_orig['tweet'] = df_orig['tweet'].apply(lambda x: removeHyperLink(x))\n",
    "df_orig['spCount'] = df_orig['tweet'].apply(lambda x: countSpChar(x))\n",
    "df_orig['hastags'] = df_orig['tweet'].apply(lambda x: len([x for x in x.split() if x.startswith('#')]))\n",
    "df_orig['tweet'] = df_orig['tweet'].apply(lambda x: removeSpChar(x))\n",
    "df_orig['word_count'] = df_orig['tweet'].apply(lambda x: len(str(x).split(\" \")))\n",
    "df_orig['char_count'] = df_orig['tweet'].str.len()\n",
    "df_orig['isCapitalize'] = df_orig['tweet'].apply(lambda x: len([x for x in x.split() if x[0].isupper()]))\n",
    "df_orig['tweet'] = df_orig['tweet'].apply(lambda x: \" \".join(x.lower() for x in x.split()))\n",
    "\n",
    "df_orig.tail()\n"
   ]
  },
  {
   "cell_type": "code",
   "execution_count": 152,
   "metadata": {},
   "outputs": [],
   "source": [
    "df_output = df_orig.drop(columns=[\"rtweet\",\"tweet\"])\n",
    "df_output.to_csv(\"features.csv\")"
   ]
  },
  {
   "cell_type": "code",
   "execution_count": null,
   "metadata": {},
   "outputs": [],
   "source": []
  }
 ],
 "metadata": {
  "kernelspec": {
   "display_name": "Python 3",
   "language": "python",
   "name": "python3"
  },
  "language_info": {
   "codemirror_mode": {
    "name": "ipython",
    "version": 3
   },
   "file_extension": ".py",
   "mimetype": "text/x-python",
   "name": "python",
   "nbconvert_exporter": "python",
   "pygments_lexer": "ipython3",
   "version": "3.6.8"
  }
 },
 "nbformat": 4,
 "nbformat_minor": 2
}
