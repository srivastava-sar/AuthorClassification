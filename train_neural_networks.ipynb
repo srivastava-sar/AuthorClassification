{
 "cells": [
  {
   "cell_type": "code",
   "execution_count": null,
   "metadata": {},
   "outputs": [
    {
     "name": "stdout",
     "output_type": "stream",
     "text": [
      "Epoch 1/30\n",
      "229736/229736 [==============================] - 69s 299us/step - loss: 8.9531 - acc: 7.2692e-04\n",
      "Epoch 2/30\n",
      "229736/229736 [==============================] - 68s 295us/step - loss: 8.6870 - acc: 0.0015\n",
      "Epoch 3/30\n",
      "229736/229736 [==============================] - 68s 297us/step - loss: 8.5948 - acc: 0.0020\n",
      "Epoch 4/30\n",
      "229736/229736 [==============================] - 68s 298us/step - loss: 8.5594 - acc: 0.0022\n",
      "Epoch 5/30\n",
      "229736/229736 [==============================] - 69s 302us/step - loss: 8.5324 - acc: 0.0023\n",
      "Epoch 6/30\n",
      "229736/229736 [==============================] - 70s 306us/step - loss: 8.5078 - acc: 0.0023\n",
      "Epoch 7/30\n",
      "229736/229736 [==============================] - 70s 303us/step - loss: 8.4845 - acc: 0.0029\n",
      "Epoch 8/30\n",
      "229736/229736 [==============================] - 70s 304us/step - loss: 8.4557 - acc: 0.0032\n",
      "Epoch 9/30\n",
      "229736/229736 [==============================] - 70s 304us/step - loss: 8.4225 - acc: 0.0037\n",
      "Epoch 10/30\n",
      "229736/229736 [==============================] - 70s 304us/step - loss: 8.3912 - acc: 0.0038\n",
      "Epoch 11/30\n",
      "229736/229736 [==============================] - 70s 304us/step - loss: 8.3647 - acc: 0.0040\n",
      "Epoch 12/30\n",
      "229736/229736 [==============================] - 70s 303us/step - loss: 8.3437 - acc: 0.0043\n",
      "Epoch 13/30\n",
      "229736/229736 [==============================] - 69s 302us/step - loss: 8.3274 - acc: 0.0045\n",
      "Epoch 14/30\n",
      "229736/229736 [==============================] - 69s 302us/step - loss: 8.3147 - acc: 0.0045\n",
      "Epoch 15/30\n",
      "229736/229736 [==============================] - 70s 303us/step - loss: 8.3046 - acc: 0.00440s - loss: 8.3043 - acc:\n",
      "Epoch 16/30\n",
      "229736/229736 [==============================] - 70s 303us/step - loss: 8.2963 - acc: 0.0048\n",
      "Epoch 17/30\n",
      "229736/229736 [==============================] - 70s 303us/step - loss: 8.2891 - acc: 0.0047\n",
      "Epoch 18/30\n",
      "229736/229736 [==============================] - 70s 304us/step - loss: 8.2832 - acc: 0.0046\n",
      "Epoch 19/30\n",
      "229736/229736 [==============================] - 69s 302us/step - loss: 8.2782 - acc: 0.0047\n",
      "Epoch 20/30\n",
      "229736/229736 [==============================] - 70s 305us/step - loss: 8.2731 - acc: 0.0046\n",
      "Epoch 21/30\n",
      "229736/229736 [==============================] - 433s 2ms/step - loss: 8.2689 - acc: 0.0047\n",
      "Epoch 22/30\n",
      "229736/229736 [==============================] - 70s 307us/step - loss: 8.2648 - acc: 0.0048\n",
      "Epoch 23/30\n",
      "226816/229736 [============================>.] - ETA: 0s - loss: 8.2606 - acc: 0.0049"
     ]
    }
   ],
   "source": [
    "import pandas as pd\n",
    "from keras.models import Sequential\n",
    "from keras.layers import Dense\n",
    "from keras.wrappers.scikit_learn import KerasClassifier\n",
    "from keras.utils import np_utils\n",
    "from sklearn.model_selection import cross_val_score\n",
    "from sklearn.model_selection import KFold\n",
    "from sklearn.preprocessing import LabelEncoder\n",
    "from sklearn.pipeline import Pipeline\n",
    "from sklearn.model_selection import train_test_split\n",
    "\n",
    "dataset = pd.read_csv('features_v2.csv')\n",
    "names = ['authorID','NumLink','hastags','spCount','word_count','char_count','isCapitalize','RT_count']\n",
    "X = dataset.iloc[:, 2:].values\n",
    "y = dataset.iloc[:,1].values\n",
    "encoder = LabelEncoder()\n",
    "encoder.fit(y)\n",
    "encoded_Y = encoder.transform(y)\n",
    "#dummy_y = np_utils.to_categorical(encoded_Y)\n",
    "dummy_y=encoded_Y\n",
    "X_train, X_test, y_train, y_test = train_test_split(X, dummy_y, test_size=0.30,random_state=42)\n",
    "model = Sequential()\n",
    "model.add(Dense(12, input_dim=7, activation='relu')) # input dimension = dimension of festure vector\n",
    "model.add(Dense(6, activation='relu'))\n",
    "model.add(Dense(10000, activation='softmax')) # output layer = no. of classes\n",
    "model.compile(loss='sparse_categorical_crossentropy',optimizer='adam',metrics=['accuracy'])\n",
    "train_histt = model.fit(X_train, y_train, epochs=30, batch_size=256, verbose=1)\n",
    "\n",
    "\n",
    "\n",
    "\n"
   ]
  },
  {
   "cell_type": "code",
   "execution_count": 9,
   "metadata": {},
   "outputs": [
    {
     "data": {
      "image/png": "[encoded data removed]",
      "text/plain": [
       "<Figure size 432x288 with 1 Axes>"
      ]
     },
     "metadata": {
      "needs_background": "light"
     },
     "output_type": "display_data"
    }
   ],
   "source": [
    "import pickle\n",
    "filename = 'test_model_ann_epoch=30_normalized_layers=12.sav'\n",
    "pickle.dump(model, open(filename, 'wb'))\n",
    "\n",
    "\n",
    "\n",
    "import matplotlib.pyplot as plt\n",
    "plt.plot(train_histt.history['loss'])\n",
    "plt.plot(train_histt.history['acc'])\n",
    "plt.show()\n",
    "\n"
   ]
  },
  {
   "cell_type": "code",
   "execution_count": 7,
   "metadata": {},
   "outputs": [
    {
     "name": "stdout",
     "output_type": "stream",
     "text": [
      "65639/65639 [==============================] - 78s 1ms/step\n",
      "Test loss=6.529046359573837\n",
      "Test accuracy=0.030286872133944757\n"
     ]
    }
   ],
   "source": [
    "scores = model.evaluate(X_test, y_test, batch_size=32)\n",
    "print('Test loss=%s'% scores[0])\n",
    "print('Test accuracy=%s'% scores[1])"
   ]
  },
  {
   "cell_type": "code",
   "execution_count": 8,
   "metadata": {},
   "outputs": [],
   "source": [
    "import pandas as pd\n",
    "from keras.models import Sequential\n",
    "from keras.layers import Dense\n",
    "from keras.wrappers.scikit_learn import KerasClassifier\n",
    "from keras.utils import np_utils\n",
    "from sklearn.model_selection import cross_val_score\n",
    "from sklearn.model_selection import KFold\n",
    "from sklearn.preprocessing import LabelEncoder\n",
    "from sklearn.pipeline import Pipeline\n",
    "\n",
    "dataset = pd.read_csv('un_features_v1.csv')\n",
    "names = [ 'row_id','spCount','hastags','word_count','char_count','isCapitalize','RT_rate']\n",
    "X = dataset.iloc[0:, 1:].values\n",
    "len(X)\n",
    "y_predict=model.predict(X)\n",
    "\n",
    "\n"
   ]
  },
  {
   "cell_type": "code",
   "execution_count": 3,
   "metadata": {},
   "outputs": [
    {
     "ename": "NameError",
     "evalue": "name 'y_predict' is not defined",
     "output_type": "error",
     "traceback": [
      "\u001b[1;31m---------------------------------------------------------------------------\u001b[0m",
      "\u001b[1;31mNameError\u001b[0m                                 Traceback (most recent call last)",
      "\u001b[1;32m<ipython-input-3-0b046bbf856f>\u001b[0m in \u001b[0;36m<module>\u001b[1;34m\u001b[0m\n\u001b[0;32m      2\u001b[0m \u001b[1;33m\u001b[0m\u001b[0m\n\u001b[0;32m      3\u001b[0m \u001b[0mpred\u001b[0m \u001b[1;33m=\u001b[0m \u001b[0mlist\u001b[0m\u001b[1;33m(\u001b[0m\u001b[1;33m)\u001b[0m\u001b[1;33m\u001b[0m\u001b[1;33m\u001b[0m\u001b[0m\n\u001b[1;32m----> 4\u001b[1;33m \u001b[1;32mfor\u001b[0m \u001b[0mi\u001b[0m \u001b[1;32min\u001b[0m \u001b[0mrange\u001b[0m\u001b[1;33m(\u001b[0m\u001b[0mlen\u001b[0m\u001b[1;33m(\u001b[0m\u001b[0my_predict\u001b[0m\u001b[1;33m)\u001b[0m\u001b[1;33m)\u001b[0m\u001b[1;33m:\u001b[0m\u001b[1;33m\u001b[0m\u001b[1;33m\u001b[0m\u001b[0m\n\u001b[0m\u001b[0;32m      5\u001b[0m     \u001b[0mpred\u001b[0m\u001b[1;33m.\u001b[0m\u001b[0mappend\u001b[0m\u001b[1;33m(\u001b[0m\u001b[0mnp\u001b[0m\u001b[1;33m.\u001b[0m\u001b[0margmax\u001b[0m\u001b[1;33m(\u001b[0m\u001b[0my_predict\u001b[0m\u001b[1;33m[\u001b[0m\u001b[0mi\u001b[0m\u001b[1;33m]\u001b[0m\u001b[1;33m)\u001b[0m\u001b[1;33m)\u001b[0m\u001b[1;33m\u001b[0m\u001b[1;33m\u001b[0m\u001b[0m\n\u001b[0;32m      6\u001b[0m \u001b[1;31m#decoding\u001b[0m\u001b[1;33m\u001b[0m\u001b[1;33m\u001b[0m\u001b[1;33m\u001b[0m\u001b[0m\n",
      "\u001b[1;31mNameError\u001b[0m: name 'y_predict' is not defined"
     ]
    }
   ],
   "source": [
    "import numpy as np\n",
    "\n",
    "pred = list()\n",
    "for i in range(len(y_predict)):\n",
    "    pred.append(np.argmax(y_predict[i]))\n",
    "#decoding\n",
    "y_output = encoder.inverse_transform(pred)\n",
    "y_output"
   ]
  },
  {
   "cell_type": "code",
   "execution_count": null,
   "metadata": {},
   "outputs": [],
   "source": [
    "len()"
   ]
  },
  {
   "cell_type": "code",
   "execution_count": 2,
   "metadata": {},
   "outputs": [
    {
     "ename": "NameError",
     "evalue": "name 'y_output' is not defined",
     "output_type": "error",
     "traceback": [
      "\u001b[1;31m---------------------------------------------------------------------------\u001b[0m",
      "\u001b[1;31mNameError\u001b[0m                                 Traceback (most recent call last)",
      "\u001b[1;32m<ipython-input-2-e50433d7eb74>\u001b[0m in \u001b[0;36m<module>\u001b[1;34m\u001b[0m\n\u001b[0;32m      1\u001b[0m \u001b[0mresult\u001b[0m \u001b[1;33m=\u001b[0m \u001b[1;33m[\u001b[0m\u001b[1;33m]\u001b[0m\u001b[1;33m\u001b[0m\u001b[1;33m\u001b[0m\u001b[0m\n\u001b[1;32m----> 2\u001b[1;33m \u001b[1;32mfor\u001b[0m \u001b[0mi\u001b[0m \u001b[1;32min\u001b[0m \u001b[0mrange\u001b[0m\u001b[1;33m(\u001b[0m\u001b[1;36m0\u001b[0m\u001b[1;33m,\u001b[0m\u001b[0mlen\u001b[0m\u001b[1;33m(\u001b[0m\u001b[0my_output\u001b[0m\u001b[1;33m)\u001b[0m\u001b[1;33m-\u001b[0m\u001b[1;36m1\u001b[0m\u001b[1;33m)\u001b[0m\u001b[1;33m:\u001b[0m\u001b[1;33m\u001b[0m\u001b[1;33m\u001b[0m\u001b[0m\n\u001b[0m\u001b[0;32m      3\u001b[0m     \u001b[0mresult\u001b[0m\u001b[1;33m.\u001b[0m\u001b[0mappend\u001b[0m\u001b[1;33m(\u001b[0m\u001b[0my_output\u001b[0m\u001b[1;33m[\u001b[0m\u001b[0mi\u001b[0m\u001b[1;33m]\u001b[0m\u001b[1;33m)\u001b[0m\u001b[1;33m\u001b[0m\u001b[1;33m\u001b[0m\u001b[0m\n\u001b[0;32m      4\u001b[0m \u001b[0mlen\u001b[0m\u001b[1;33m(\u001b[0m\u001b[0mresult\u001b[0m\u001b[1;33m)\u001b[0m\u001b[1;33m\u001b[0m\u001b[1;33m\u001b[0m\u001b[0m\n\u001b[0;32m      5\u001b[0m     \u001b[1;31m#resDF = pd.DataFrame(result)\u001b[0m\u001b[1;33m\u001b[0m\u001b[1;33m\u001b[0m\u001b[1;33m\u001b[0m\u001b[0m\n",
      "\u001b[1;31mNameError\u001b[0m: name 'y_output' is not defined"
     ]
    }
   ],
   "source": [
    "result = []\n",
    "for i in range(0,len(y_output)-1):\n",
    "    result.append(y_output[i])\n",
    "len(result)\n",
    "    #resDF = pd.DataFrame(result)"
   ]
  },
  {
   "cell_type": "code",
   "execution_count": 8,
   "metadata": {},
   "outputs": [],
   "source": [
    "resDF.to_csv(\"unlabelled_prediction.csv\")"
   ]
  },
  {
   "cell_type": "code",
   "execution_count": 85,
   "metadata": {},
   "outputs": [
    {
     "data": {
      "text/plain": [
       "array([[0.0000000e+00, 3.7083769e-12, 1.3830452e-11, ..., 1.6815704e-37,\n",
       "        5.3666552e-37, 5.1293443e-37],\n",
       "       [0.0000000e+00, 6.8083104e-12, 1.7400791e-11, ..., 4.0814977e-37,\n",
       "        1.5344296e-36, 1.3854169e-36],\n",
       "       [0.0000000e+00, 1.8075539e-11, 5.9684764e-11, ..., 4.6849663e-35,\n",
       "        1.5254434e-34, 1.3124485e-34],\n",
       "       ...,\n",
       "       [0.0000000e+00, 8.6472877e-12, 9.9087388e-12, ..., 6.3872879e-37,\n",
       "        2.5774427e-36, 2.2528413e-36],\n",
       "       [0.0000000e+00, 1.7306252e-12, 1.3639458e-10, ..., 9.3331001e-36,\n",
       "        4.1154760e-35, 3.6682079e-35],\n",
       "       [0.0000000e+00, 8.0468765e-12, 8.9152769e-11, ..., 7.9459767e-33,\n",
       "        3.0577162e-32, 2.5310512e-32]], dtype=float32)"
      ]
     },
     "execution_count": 85,
     "metadata": {},
     "output_type": "execute_result"
    }
   ],
   "source": [
    "y_predict"
   ]
  },
  {
   "cell_type": "code",
   "execution_count": 88,
   "metadata": {},
   "outputs": [],
   "source": [
    "encoded_Y = encoder.fit_transform(y)"
   ]
  },
  {
   "cell_type": "code",
   "execution_count": 89,
   "metadata": {},
   "outputs": [
    {
     "data": {
      "text/plain": [
       "array([8137, 8137, 8137, ..., 4029, 4029, 4029], dtype=int64)"
      ]
     },
     "execution_count": 89,
     "metadata": {},
     "output_type": "execute_result"
    }
   ],
   "source": [
    "encoded_Y"
   ]
  },
  {
   "cell_type": "code",
   "execution_count": null,
   "metadata": {},
   "outputs": [],
   "source": []
  }
 ],
 "metadata": {
  "kernelspec": {
   "display_name": "Python 3",
   "language": "python",
   "name": "python3"
  },
  "language_info": {
   "codemirror_mode": {
    "name": "ipython",
    "version": 3
   },
   "file_extension": ".py",
   "mimetype": "text/x-python",
   "name": "python",
   "nbconvert_exporter": "python",
   "pygments_lexer": "ipython3",
   "version": "3.7.3"
  }
 },
 "nbformat": 4,
 "nbformat_minor": 2
}
